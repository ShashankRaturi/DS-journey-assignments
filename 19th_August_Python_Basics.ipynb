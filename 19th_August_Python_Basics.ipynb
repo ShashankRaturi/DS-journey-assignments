{
 "cells": [
  {
   "cell_type": "markdown",
   "id": "6f9368eb-5436-4d5f-a064-8f32d2933538",
   "metadata": {},
   "source": [
    "## Python Basic Variable"
   ]
  },
  {
   "cell_type": "markdown",
   "id": "7ca0deae-e759-4cc3-a1ea-befe16f2fe5e",
   "metadata": {},
   "source": [
    "### 1."
   ]
  },
  {
   "cell_type": "code",
   "execution_count": 4,
   "id": "ca8faaf5-f3fc-4223-9d7e-7558574e0d63",
   "metadata": {},
   "outputs": [
    {
     "name": "stdout",
     "output_type": "stream",
     "text": [
      "Before swapping\n",
      "x =  5\n",
      "y =  23\n",
      "After swapping\n",
      "x = 23\n",
      "y = 5\n"
     ]
    }
   ],
   "source": [
    "x = 5\n",
    "y = 23\n",
    "\n",
    "print(\"Before swapping\\nx = \" , x)\n",
    "print(\"y = \" , y)\n",
    "\n",
    "x = x + y\n",
    "y = x - y\n",
    "x = x - y\n",
    "\n",
    "print(\"After swapping\\nx = {}\\ny = {}\".format(x , y))"
   ]
  },
  {
   "cell_type": "markdown",
   "id": "a7ab8035-4253-478c-8984-82aa491c77cf",
   "metadata": {},
   "source": [
    "### 2."
   ]
  },
  {
   "cell_type": "code",
   "execution_count": 6,
   "id": "04f68c91-a41c-4924-98f2-7d3dc103b1d1",
   "metadata": {},
   "outputs": [
    {
     "name": "stdin",
     "output_type": "stream",
     "text": [
      "Enter the length of rectangle :  45\n",
      "Enter the breadth of rectangle :  35\n"
     ]
    },
    {
     "name": "stdout",
     "output_type": "stream",
     "text": [
      "Area is 1575 sq. units\n"
     ]
    }
   ],
   "source": [
    "#calculating the area of rectangle\n",
    "length = int(input(\"Enter the length of rectangle : \"))\n",
    "breadth = int(input(\"Enter the breadth of rectangle : \"))\n",
    "\n",
    "area = length * breadth\n",
    "print(\"Area is \" + str(area) + \" sq. units\")"
   ]
  },
  {
   "cell_type": "markdown",
   "id": "17b73735-8c00-4518-8125-baa96edfd483",
   "metadata": {},
   "source": [
    "### 3."
   ]
  },
  {
   "cell_type": "code",
   "execution_count": 8,
   "id": "c6da7f5b-1b1c-4774-8cba-a743eb9269a4",
   "metadata": {},
   "outputs": [
    {
     "name": "stdin",
     "output_type": "stream",
     "text": [
      "Enter the temperature in degree celcius :  25\n"
     ]
    },
    {
     "name": "stdout",
     "output_type": "stream",
     "text": [
      "The equivalent temperature in degree fahrenheit is :  77.0\n"
     ]
    }
   ],
   "source": [
    "#celcius to fahrenheit\n",
    "temp_celcius = float(input(\"Enter the temperature in degree celcius : \"))\n",
    "## relation  : F-32 = 9C/5 \n",
    "\n",
    "temp_fahrenheit = temp_celcius*(9/5) + 32\n",
    "\n",
    "print(\"The equivalent temperature in degree fahrenheit is : \" , temp_fahrenheit)\n"
   ]
  },
  {
   "cell_type": "markdown",
   "id": "05c84da9-503b-4fdc-b861-1fcd1529601b",
   "metadata": {},
   "source": [
    "# String Based Questions"
   ]
  },
  {
   "cell_type": "markdown",
   "id": "cfbc0980-edd2-42ac-b27e-af5ef183ba5b",
   "metadata": {},
   "source": [
    "### 1."
   ]
  },
  {
   "cell_type": "code",
   "execution_count": 9,
   "id": "5905c097-aedb-442f-bd54-4ebe2d9fc325",
   "metadata": {},
   "outputs": [
    {
     "name": "stdin",
     "output_type": "stream",
     "text": [
      "Enter any string :  alpha pane\n"
     ]
    },
    {
     "name": "stdout",
     "output_type": "stream",
     "text": [
      "the length of string is :  10\n"
     ]
    }
   ],
   "source": [
    "input_string = input(\"Enter any string : \")\n",
    "print(\"the length of string is : \" , len(input_string))"
   ]
  },
  {
   "cell_type": "markdown",
   "id": "2a6df629-8acb-4039-8195-76bcc62fbd58",
   "metadata": {},
   "source": [
    "### 2."
   ]
  },
  {
   "cell_type": "code",
   "execution_count": 10,
   "id": "98742c4f-84c3-4bd1-b0d6-956813039655",
   "metadata": {},
   "outputs": [
    {
     "name": "stdin",
     "output_type": "stream",
     "text": [
      "Enter the sentence :  Humpty dumpty sat on a wall.\n"
     ]
    },
    {
     "name": "stdout",
     "output_type": "stream",
     "text": [
      "Number of vowels present :  6\n"
     ]
    }
   ],
   "source": [
    "#couting the number of vowels\n",
    "sentence = input(\"Enter the sentence : \")\n",
    "vowels = ['a' , 'e' , 'i' , 'o' , 'u']\n",
    "count = 0\n",
    "for character in sentence :\n",
    "    if character in vowels:\n",
    "        count += 1\n",
    "print(\"Number of vowels present : \" , count)"
   ]
  },
  {
   "cell_type": "markdown",
   "id": "49ad61cc-6cca-49c8-8dc1-2c9b35242eb6",
   "metadata": {},
   "source": [
    "### 3."
   ]
  },
  {
   "cell_type": "code",
   "execution_count": 11,
   "id": "42b39e42-8cbe-4f5c-b399-027a7e6717c8",
   "metadata": {},
   "outputs": [
    {
     "data": {
      "text/plain": [
       "'.srehtorb era nitaJ dna namA'"
      ]
     },
     "execution_count": 11,
     "metadata": {},
     "output_type": "execute_result"
    }
   ],
   "source": [
    "#reversing the string\n",
    "\n",
    "st = \"Aman and Jatin are brothers.\"\n",
    "st[::-1]"
   ]
  },
  {
   "cell_type": "markdown",
   "id": "1082e8b2-01d9-438f-8e8d-73f718c6f6bd",
   "metadata": {},
   "source": [
    "### 4."
   ]
  },
  {
   "cell_type": "code",
   "execution_count": 13,
   "id": "9583e0ec-b67c-44af-b4f8-eb9b3c3e7b91",
   "metadata": {},
   "outputs": [
    {
     "name": "stdin",
     "output_type": "stream",
     "text": [
      "Enter the string agasta\n"
     ]
    },
    {
     "name": "stdout",
     "output_type": "stream",
     "text": [
      "Not a palindrome.\n"
     ]
    }
   ],
   "source": [
    "#checking palindrome\n",
    "input_string = input(\"Enter the string\")\n",
    "rev = input_string[::-1]\n",
    "\n",
    "if input_string == rev :\n",
    "    print(\"Yes , palindrome.\")\n",
    "else:\n",
    "    print(\"Not a palindrome.\")"
   ]
  },
  {
   "cell_type": "markdown",
   "id": "a947431a-827f-4b36-b8b4-2cbdc30a4b7e",
   "metadata": {},
   "source": [
    "### 5."
   ]
  },
  {
   "cell_type": "code",
   "execution_count": 35,
   "id": "fcc33148-dcba-43c3-8899-f6d1bbeaee37",
   "metadata": {},
   "outputs": [
    {
     "name": "stdin",
     "output_type": "stream",
     "text": [
      "Enter the string :  aman is a good man\n"
     ]
    },
    {
     "name": "stdout",
     "output_type": "stream",
     "text": [
      "amanisagoodman\n"
     ]
    }
   ],
   "source": [
    "input_string = input(\"Enter the string : \")\n",
    "words = input_string.split(\" \")  #splitting the string on the basis of balnk space present in between\n",
    "print(*words , sep='') # using * operator to print all contents of list in single line and using separator ='' i.e., no space in between"
   ]
  },
  {
   "cell_type": "code",
   "execution_count": null,
   "id": "edda4682-b0b8-415a-8560-78348896d99f",
   "metadata": {},
   "outputs": [],
   "source": []
  }
 ],
 "metadata": {
  "kernelspec": {
   "display_name": "Python 3 (ipykernel)",
   "language": "python",
   "name": "python3"
  },
  "language_info": {
   "codemirror_mode": {
    "name": "ipython",
    "version": 3
   },
   "file_extension": ".py",
   "mimetype": "text/x-python",
   "name": "python",
   "nbconvert_exporter": "python",
   "pygments_lexer": "ipython3",
   "version": "3.10.8"
  }
 },
 "nbformat": 4,
 "nbformat_minor": 5
}
